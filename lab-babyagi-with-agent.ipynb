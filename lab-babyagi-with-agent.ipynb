{
 "cells": [
  {
   "cell_type": "markdown",
   "id": "1cdba6f7-142d-4dd2-96f6-a13bb5d978ce",
   "metadata": {},
   "source": [
    "# Lab | BabyAGI with agent\n",
    "\n",
    "**Change the planner objective below by changing the objective and the associated prompts and potential tools and agents - Wear your creativity and AI engineering hats\n",
    "You can't get this wrong!**\n",
    "\n",
    "You would need the OpenAI API KEY and the [SerpAPI KEY](https://serpapi.com/manage-api-keyhttps://serpapi.com/manage-api-key) to run this lab.\n"
   ]
  },
  {
   "cell_type": "markdown",
   "id": "517a9fd4",
   "metadata": {},
   "source": [
    "## BabyAGI with Tools\n",
    "\n",
    "This notebook builds on top of [baby agi](https://github.com/yoheinakajima/babyagi), but shows how you can swap out the execution chain. The previous execution chain was just an LLM which made stuff up. By swapping it out with an agent that has access to tools, we can hopefully get real reliable information"
   ]
  },
  {
   "cell_type": "markdown",
   "id": "556af556",
   "metadata": {},
   "source": [
    "## Install and Import Required Modules"
   ]
  },
  {
   "cell_type": "code",
   "execution_count": 27,
   "id": "c8a354b6",
   "metadata": {
    "tags": []
   },
   "outputs": [],
   "source": [
    "from typing import Optional\n",
    "\n",
    "from langchain.chains import LLMChain\n",
    "from langchain.prompts import PromptTemplate\n",
    "from langchain_experimental.autonomous_agents import BabyAGI\n",
    "from langchain_openai import OpenAI, OpenAIEmbeddings"
   ]
  },
  {
   "cell_type": "markdown",
   "id": "09f70772",
   "metadata": {},
   "source": [
    "## Connect to the Vector Store\n",
    "\n",
    "Depending on what vectorstore you use, this step may look different."
   ]
  },
  {
   "cell_type": "code",
   "execution_count": 28,
   "id": "794045d4",
   "metadata": {
    "tags": []
   },
   "outputs": [],
   "source": [
    "# %pip install faiss-cpu > /dev/null\n",
    "# %pip install google-search-results > /dev/null\n",
    "from langchain.docstore import InMemoryDocstore\n",
    "from langchain_community.vectorstores import FAISS"
   ]
  },
  {
   "cell_type": "code",
   "execution_count": 29,
   "id": "c4164841-915d-4c60-8a47-3a502a5cf71d",
   "metadata": {
    "tags": []
   },
   "outputs": [],
   "source": [
    "import os\n",
    "from dotenv import load_dotenv, find_dotenv\n",
    "_ = load_dotenv(find_dotenv())\n",
    "\n",
    "OPENAI_API_KEY  = os.getenv('OPENAI_API_KEY')\n",
    "SERPAPI_API_KEY = os.getenv('SERPAPI_API_KEY')"
   ]
  },
  {
   "cell_type": "code",
   "execution_count": 30,
   "id": "6e0305eb",
   "metadata": {
    "tags": []
   },
   "outputs": [
    {
     "name": "stderr",
     "output_type": "stream",
     "text": [
      "`embedding_function` is expected to be an Embeddings object, support for passing in a function will soon be removed.\n"
     ]
    }
   ],
   "source": [
    "# Define your embedding model\n",
    "embeddings_model = OpenAIEmbeddings()\n",
    "# Initialize the vectorstore as empty\n",
    "import faiss\n",
    "\n",
    "embedding_size = 1536\n",
    "index = faiss.IndexFlatL2(embedding_size)\n",
    "vectorstore = FAISS(embeddings_model.embed_query, index, InMemoryDocstore({}), {})"
   ]
  },
  {
   "cell_type": "markdown",
   "id": "0f3b72bf",
   "metadata": {},
   "source": [
    "## Define the Chains\n",
    "\n",
    "BabyAGI relies on three LLM chains:\n",
    "- Task creation chain to select new tasks to add to the list\n",
    "- Task prioritization chain to re-prioritize tasks\n",
    "- Execution Chain to execute the tasks\n",
    "\n",
    "\n",
    "NOTE: in this notebook, the Execution chain will now be an agent."
   ]
  },
  {
   "cell_type": "code",
   "execution_count": 31,
   "id": "b43cd580",
   "metadata": {
    "tags": []
   },
   "outputs": [],
   "source": [
    "from langchain.agents import AgentExecutor, Tool, ZeroShotAgent\n",
    "from langchain.chains import LLMChain\n",
    "from langchain_community.utilities import SerpAPIWrapper\n",
    "from langchain_openai import OpenAI\n",
    "\n",
    "# create prompt\n",
    "todo_prompt = PromptTemplate.from_template(\n",
    "    \"You are a planner who is an expert at coming up with a todo list for a given objective. Come up with a todo list for this objective: {objective}\"\n",
    ")\n",
    "\n",
    "# create LLM chain\n",
    "todo_chain = LLMChain(llm=OpenAI(temperature=0), prompt=todo_prompt)\n",
    "\n",
    "# create serp wrapper\n",
    "search = SerpAPIWrapper()\n",
    "tools = [\n",
    "    Tool(\n",
    "        name=\"Search\",\n",
    "        func=search.run,\n",
    "        description=\"useful for when you need to answer questions about current events\",\n",
    "    ),\n",
    "    Tool(\n",
    "        name=\"TODO\",\n",
    "        func=todo_chain.run,\n",
    "        description=\"useful for when you need to come up with todo lists. Input: an objective to create a todo list for. Output: a todo list for that objective. Please be very clear what the objective is!\",\n",
    "    ),\n",
    "]\n",
    "\n",
    "\n",
    "prefix = \"\"\"You are an AI who performs one task based on the following objective: {objective}. Take into account these previously completed tasks: {context}.\"\"\"\n",
    "suffix = \"\"\"Question: {task}\n",
    "{agent_scratchpad}\"\"\"\n",
    "prompt = ZeroShotAgent.create_prompt(\n",
    "    tools,\n",
    "    prefix=prefix,\n",
    "    suffix=suffix,\n",
    "    input_variables=[\"objective\", \"task\", \"context\", \"agent_scratchpad\"],\n",
    ")"
   ]
  },
  {
   "cell_type": "code",
   "execution_count": 32,
   "id": "4b00ae2e",
   "metadata": {
    "tags": []
   },
   "outputs": [],
   "source": [
    "llm = OpenAI(temperature=0)\n",
    "llm_chain = LLMChain(llm=llm, prompt=prompt)\n",
    "tool_names = [tool.name for tool in tools]\n",
    "agent = ZeroShotAgent(llm_chain=llm_chain, allowed_tools=tool_names)\n",
    "agent_executor = AgentExecutor.from_agent_and_tools(\n",
    "    agent=agent, tools=tools, verbose=True\n",
    ")"
   ]
  },
  {
   "cell_type": "markdown",
   "id": "05ba762e",
   "metadata": {},
   "source": [
    "### Run the BabyAGI\n",
    "\n",
    "Now it's time to create the BabyAGI controller and watch it try to accomplish your objective."
   ]
  },
  {
   "cell_type": "code",
   "execution_count": 33,
   "id": "3d220b69",
   "metadata": {
    "tags": []
   },
   "outputs": [],
   "source": [
    "OBJECTIVE = \"Give me some advice on how to find a job of AI Software Engineer in the near future\""
   ]
  },
  {
   "cell_type": "code",
   "execution_count": 34,
   "id": "3d69899b",
   "metadata": {
    "tags": []
   },
   "outputs": [],
   "source": [
    "# Logging of LLMChains\n",
    "verbose = False\n",
    "\n",
    "# If None, will keep on going forever\n",
    "max_iterations: Optional[int] = 3           # can be either int or None\n",
    "baby_agi = BabyAGI.from_llm(                # create BabyAGI object\n",
    "    llm=llm,                                # LLMChain object\n",
    "    vectorstore=vectorstore,                # VectorStore object\n",
    "    task_execution_chain=agent_executor,    # AgentExecutor object\n",
    "    verbose=verbose,                        # logging verbosity\n",
    "    max_iterations=max_iterations,          # maximum iterations\n",
    ")"
   ]
  },
  {
   "cell_type": "code",
   "execution_count": 35,
   "id": "f7957b51",
   "metadata": {
    "tags": []
   },
   "outputs": [
    {
     "name": "stdout",
     "output_type": "stream",
     "text": [
      "\u001b[95m\u001b[1m\n",
      "*****TASK LIST*****\n",
      "\u001b[0m\u001b[0m\n",
      "1: Make a todo list\n",
      "\u001b[92m\u001b[1m\n",
      "*****NEXT TASK*****\n",
      "\u001b[0m\u001b[0m\n",
      "1: Make a todo list\n",
      "\n",
      "\n",
      "\u001b[1m> Entering new AgentExecutor chain...\u001b[0m\n",
      "\u001b[32;1m\u001b[1;3mThought: To find a job as an AI Software Engineer, it is important to have a clear plan and strategy in place.\n",
      "Action: TODO\n",
      "Action Input: Objective: Find a job as an AI Software Engineer\u001b[0m\n",
      "Observation: \u001b[33;1m\u001b[1;3m\n",
      "\n",
      "1. Research job market and current demand for AI software engineers\n",
      "2. Update resume and LinkedIn profile to highlight relevant skills and experience\n",
      "3. Network with professionals in the field and attend industry events\n",
      "4. Create a list of target companies and research their hiring processes\n",
      "5. Customize cover letter and application materials for each company\n",
      "6. Prepare for technical interviews by practicing coding and problem-solving skills\n",
      "7. Familiarize yourself with common AI software tools and technologies\n",
      "8. Consider obtaining additional certifications or taking relevant courses to enhance skills\n",
      "9. Utilize job search engines and company career pages to find open positions\n",
      "10. Follow up with companies after submitting applications and interviews\n",
      "11. Prepare for salary negotiations by researching industry standards and company budgets\n",
      "12. Stay updated on industry news and developments to showcase knowledge and passion for the field\n",
      "13. Attend job fairs and career workshops to network and gain insights into the job market\n",
      "14. Consider reaching out to recruitment agencies or hiring managers directly for potential job opportunities\n",
      "15. Stay organized and track progress by creating a spreadsheet or using a job search app.\u001b[0m\n",
      "Thought:\u001b[32;1m\u001b[1;3m With a clear and organized plan, finding a job as an AI Software Engineer can be a more efficient and successful process.\n",
      "Final Answer: To find a job as an AI Software Engineer in the near future, follow this todo list and stay focused on your objective.\u001b[0m\n",
      "\n",
      "\u001b[1m> Finished chain.\u001b[0m\n",
      "\u001b[93m\u001b[1m\n",
      "*****TASK RESULT*****\n",
      "\u001b[0m\u001b[0m\n",
      "To find a job as an AI Software Engineer in the near future, follow this todo list and stay focused on your objective.\n",
      "\u001b[95m\u001b[1m\n",
      "*****TASK LIST*****\n",
      "\u001b[0m\u001b[0m\n",
      "1: Update resume and LinkedIn profile to highlight AI skills and experience\n",
      "2: Research job market for AI Software Engineers\n",
      "3: Attend job fairs and conferences focused on AI and technology\n",
      "4: Network with professionals in the AI industry\n",
      "5: Create a portfolio showcasing AI projects and accomplishments\n",
      "6: Apply to job openings for AI Software Engineers\n",
      "7: Familiarize yourself with AI tools and technologies, such as machine learning and natural language processing\n",
      "8: Practice coding and programming skills in AI languages such as Python and Java\n",
      "9: Prepare for technical interviews by studying common AI interview questions and practicing coding challenges\n",
      "10: Stay updated on the latest developments and advancements in the AI field.\n",
      "\u001b[92m\u001b[1m\n",
      "*****NEXT TASK*****\n",
      "\u001b[0m\u001b[0m\n",
      "1: Update resume and LinkedIn profile to highlight AI skills and experience\n",
      "\n",
      "\n",
      "\u001b[1m> Entering new AgentExecutor chain...\u001b[0m\n",
      "\u001b[32;1m\u001b[1;3mThought: It is important to showcase your AI skills and experience on your resume and LinkedIn profile to attract potential employers.\n",
      "Action: TODO\n",
      "Action Input: \"Update resume and LinkedIn profile to highlight AI skills and experience\"\u001b[0m\n",
      "Observation: \u001b[33;1m\u001b[1;3m\n",
      "\n",
      "1. Research current trends and keywords in AI industry to incorporate into resume and LinkedIn profile.\n",
      "2. Review and update work experience section to highlight any previous AI-related projects or tasks.\n",
      "3. Add relevant coursework or certifications related to AI to education section.\n",
      "4. Include any AI-related skills or tools in the skills section.\n",
      "5. Update profile picture to a professional and current one.\n",
      "6. Write a compelling summary that showcases AI skills and experience.\n",
      "7. Request recommendations from previous colleagues or supervisors who can speak to AI skills and experience.\n",
      "8. Join relevant AI groups and communities on LinkedIn to network and stay updated on industry news.\n",
      "9. Share any relevant articles or projects related to AI on LinkedIn to showcase knowledge and interest in the field.\n",
      "10. Regularly update and maintain LinkedIn profile to reflect any new AI skills or experience gained.\u001b[0m\n",
      "Thought:\u001b[32;1m\u001b[1;3m With these updates, my resume and LinkedIn profile will effectively highlight my AI skills and experience.\n",
      "Final Answer: To find a job as an AI Software Engineer in the near future, update your resume and LinkedIn profile to highlight AI skills and experience by following the above steps.\u001b[0m\n",
      "\n",
      "\u001b[1m> Finished chain.\u001b[0m\n",
      "\u001b[93m\u001b[1m\n",
      "*****TASK RESULT*****\n",
      "\u001b[0m\u001b[0m\n",
      "To find a job as an AI Software Engineer in the near future, update your resume and LinkedIn profile to highlight AI skills and experience by following the above steps.\n",
      "\u001b[95m\u001b[1m\n",
      "*****TASK LIST*****\n",
      "\u001b[0m\u001b[0m\n",
      "1: Research job market for AI Software Engineers\n",
      "2: Attend job fairs and conferences focused on AI and technology\n",
      "3: Network with professionals in the AI industry\n",
      "4: Create a portfolio showcasing AI projects and accomplishments\n",
      "5: Apply to job openings for AI Software Engineers\n",
      "6: Familiarize yourself with AI tools and technologies, such as machine learning and natural language processing\n",
      "7: Practice coding and programming skills in AI languages such as Python and Java\n",
      "8: Prepare for technical interviews by studying common AI interview questions and practicing coding challenges\n",
      "9: Stay updated on the latest developments and advancements in the AI field.\n",
      "10: Research companies and industries that are currently hiring for AI Software Engineers.\n",
      "11: Create a list of key skills and qualifications that are in high demand for AI Software Engineer positions.\n",
      "12: Develop a plan for how to showcase your AI skills and experience in your resume and LinkedIn profile.\n",
      "13: Attend online webinars and workshops focused on AI and technology to expand your knowledge and network.\n",
      "14: Connect with AI professionals on LinkedIn and schedule informational interviews to learn more about their experiences and insights.\n",
      "15: Develop a personal brand as an AI Software Engineer by creating content and sharing your expertise on social media platforms.\n",
      "16: Apply for internships or volunteer opportunities\n",
      "\u001b[92m\u001b[1m\n",
      "*****NEXT TASK*****\n",
      "\u001b[0m\u001b[0m\n",
      "1: Research job market for AI Software Engineers\n",
      "\n",
      "\n",
      "\u001b[1m> Entering new AgentExecutor chain...\u001b[0m\n",
      "\u001b[32;1m\u001b[1;3mThought: It is important to have a clear understanding of the current job market for AI Software Engineers in order to effectively search for job opportunities.\n",
      "Action: Search\n",
      "Action Input: \"AI Software Engineer job market\"\u001b[0m\n",
      "Observation: \u001b[36;1m\u001b[1;3m['I recently did a study on how AI might be affecting the demand of software engineers. I took a dataset of 20M job postings from big and small startups.', \"The demand for these and other AI-related roles has more than doubled over the past three years, and it's expected to keep growing at a similar ...\", 'The demand for skilled engineers is expected to grow by 25% in the decade ending in 2032, according to the U.S. Bureau of Labor Statistics.', \"Tech jobs and stocks are up, layoffs are down, and the first AI software engineer is spooking tech workers - all while there's a 60% chance ...\", 'Analyze 20 million tech job openings, from November 1, 2022 to Feb 21, 2024 to understand how AI has impacted the demand for certain tech skills and engineers.', 'AI is already having significant impact on the job market for software engineers. Some of them are: As the prevalence of AI is increasing ...', 'Tech layoffs are on the rise, yet AI skill demand grows, creating a split tech job market that values specialized AI roles amid general employment challenges.', 'A deep dive into job market trends, the companies and cities hiring the most software engineers, growth areas, and more.', 'Experts, where do you see the software engineering job market ... atm AI / ML jobs are in pretty high demand and highest paid as well.']\u001b[0m\n",
      "Thought:\u001b[32;1m\u001b[1;3m This information will help me understand the current demand for AI Software Engineers and the skills that are most in demand.\n",
      "Action: TODO\n",
      "Action Input: \"Create a todo list for finding a job as an AI Software Engineer\"\u001b[0m\n",
      "Observation: \u001b[33;1m\u001b[1;3m\n",
      "\n",
      "1. Research job market and current demand for AI Software Engineers\n",
      "2. Update resume and LinkedIn profile to highlight relevant skills and experience\n",
      "3. Network with professionals in the field and attend industry events\n",
      "4. Identify and research companies that are hiring for AI Software Engineers\n",
      "5. Customize cover letter and application materials for each company\n",
      "6. Prepare for technical interviews by practicing coding and algorithm questions\n",
      "7. Familiarize yourself with common AI technologies and tools used in the industry\n",
      "8. Consider obtaining additional certifications or taking online courses to enhance skills\n",
      "9. Utilize job search engines and company career websites to find open positions\n",
      "10. Reach out to recruiters and staffing agencies specializing in AI and technology roles\n",
      "11. Attend job fairs and career expos to meet potential employers and learn about job opportunities\n",
      "12. Prepare a portfolio showcasing past AI projects and contributions\n",
      "13. Practice and refine your elevator pitch to effectively communicate your skills and experience\n",
      "14. Follow up with companies after submitting applications or attending interviews\n",
      "15. Stay organized and track progress by creating a spreadsheet or using a job search app.\u001b[0m\n",
      "Thought:\u001b[32;1m\u001b[1;3m This todo list will help me stay organized and focused in my job search for an AI Software Engineer position.\n",
      "Thought: I now know the final answer.\n",
      "Final Answer: To find a job as an AI Software Engineer in the near future, it is important to research the current job market, update your resume and LinkedIn profile, network with professionals, customize application materials, prepare for technical interviews, and utilize various job search methods.\u001b[0m\n",
      "\n",
      "\u001b[1m> Finished chain.\u001b[0m\n",
      "\u001b[93m\u001b[1m\n",
      "*****TASK RESULT*****\n",
      "\u001b[0m\u001b[0m\n",
      "To find a job as an AI Software Engineer in the near future, it is important to research the current job market, update your resume and LinkedIn profile, network with professionals, customize application materials, prepare for technical interviews, and utilize various job search methods.\n",
      "\u001b[91m\u001b[1m\n",
      "*****TASK ENDING*****\n",
      "\u001b[0m\u001b[0m\n"
     ]
    },
    {
     "data": {
      "text/plain": [
       "{'objective': 'Give me some advice on how to find a job of AI Software Engineer in the near future'}"
      ]
     },
     "execution_count": 35,
     "metadata": {},
     "output_type": "execute_result"
    }
   ],
   "source": [
    "baby_agi({\"objective\": OBJECTIVE})"
   ]
  }
 ],
 "metadata": {
  "kernelspec": {
   "display_name": "ironhack",
   "language": "python",
   "name": "python3"
  },
  "language_info": {
   "codemirror_mode": {
    "name": "ipython",
    "version": 3
   },
   "file_extension": ".py",
   "mimetype": "text/x-python",
   "name": "python",
   "nbconvert_exporter": "python",
   "pygments_lexer": "ipython3",
   "version": "3.12.7"
  }
 },
 "nbformat": 4,
 "nbformat_minor": 5
}
